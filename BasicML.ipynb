{
  "nbformat": 4,
  "nbformat_minor": 0,
  "metadata": {
    "colab": {
      "name": "BasicML.ipynb",
      "provenance": [],
      "authorship_tag": "ABX9TyNMJqS3+HaHV1RA/HvnLiVM",
      "include_colab_link": true
    },
    "kernelspec": {
      "name": "python3",
      "display_name": "Python 3"
    },
    "language_info": {
      "name": "python"
    }
  },
  "cells": [
    {
      "cell_type": "markdown",
      "metadata": {
        "id": "view-in-github",
        "colab_type": "text"
      },
      "source": [
        "<a href=\"https://colab.research.google.com/github/Moinuddinsk01/Basic-ML/blob/main/BasicML.ipynb\" target=\"_parent\"><img src=\"https://colab.research.google.com/assets/colab-badge.svg\" alt=\"Open In Colab\"/></a>"
      ]
    },
    {
      "cell_type": "markdown",
      "metadata": {
        "id": "rzA77FSNQQTt"
      },
      "source": [
        ""
      ]
    },
    {
      "cell_type": "markdown",
      "metadata": {
        "id": "S-xMVXVdRfsY"
      },
      "source": [
        "## Python program to check a given year is leap year or not.\n",
        "\n",
        "###Algorithm\n",
        "      \n",
        "      >> Start\n",
        "      >> Read Number\n",
        "      >> Check the given number is leap year or not\n",
        "      >> If it is leap year print LEAP YEAR\n",
        "      >> Else print NOT LEAP YEAR\n",
        "      >> Stop"
      ]
    },
    {
      "cell_type": "code",
      "metadata": {
        "id": "QVXetH07XHnJ"
      },
      "source": [
        "n=int(input())\n",
        "if (n%4==0 and n%100!=0) or n%400==0:\n",
        "  print(\"LEAP YEAR\")\n",
        "else:\n",
        "  print(\"NOT LEAP YEAR\")"
      ],
      "execution_count": null,
      "outputs": []
    },
    {
      "cell_type": "markdown",
      "metadata": {
        "id": "vZv9UPj4Xi1u"
      },
      "source": [
        ""
      ]
    },
    {
      "cell_type": "markdown",
      "metadata": {
        "id": "hMsPZ7DfXi9a"
      },
      "source": [
        "2012\n",
        "\n",
        "LEAP YEAR\n"
      ]
    },
    {
      "cell_type": "markdown",
      "metadata": {
        "id": "uADSO9wvZBte"
      },
      "source": [
        ""
      ]
    },
    {
      "cell_type": "markdown",
      "metadata": {
        "id": "NQcIG1vaZBx9"
      },
      "source": [
        "##Python program to print first n natural numbers.\n",
        "\n",
        "###Algorithm \n",
        "      >> Start \n",
        "      >> Read Number\n",
        "      >> Print the natural numbers till the given number\n",
        "      >> Stop"
      ]
    },
    {
      "cell_type": "code",
      "metadata": {
        "id": "nfQ_XAvKZ4H0"
      },
      "source": [
        "n=int(input())\n",
        "for i in range(1,n+1):\n",
        "  print(i,end=\" \")"
      ],
      "execution_count": 3,
      "outputs": []
    },
    {
      "cell_type": "markdown",
      "metadata": {
        "id": "np9OE7bVaryW"
      },
      "source": [
        ""
      ]
    },
    {
      "cell_type": "markdown",
      "metadata": {
        "id": "ruxTAw_har2Z"
      },
      "source": [
        "10\n",
        "\n",
        "1 2 3 4 5 6 7 8 9 10"
      ]
    },
    {
      "cell_type": "markdown",
      "metadata": {
        "id": "1VYlHeqoa6ji"
      },
      "source": [
        "##Python program to find the factorial of given number.\n",
        "\n",
        "###Algorithm\n",
        "      >> Start \n",
        "      >> Read Number\n",
        "      >> initialize fact\n",
        "      >> find the factorial and print the result\n",
        "      >> Stop"
      ]
    },
    {
      "cell_type": "code",
      "metadata": {
        "id": "UOFlyzXDby_e"
      },
      "source": [
        "n=int(input())\n",
        "fact=1\n",
        "while n>0:\n",
        "  fact*=n\n",
        "  n-=1\n",
        "print(\"Factorial of given number is\", fact,\".\")"
      ],
      "execution_count": null,
      "outputs": []
    },
    {
      "cell_type": "markdown",
      "metadata": {
        "id": "YhZKIbqqc-hJ"
      },
      "source": [
        ""
      ]
    },
    {
      "cell_type": "markdown",
      "metadata": {
        "id": "7kIKo-noc-mC"
      },
      "source": [
        "5\n",
        "\n",
        " Factorial of given number is 120."
      ]
    }
  ]
}